{
  "nbformat": 4,
  "nbformat_minor": 0,
  "metadata": {
    "colab": {
      "provenance": [],
      "gpuType": "T4"
    },
    "kernelspec": {
      "name": "python3",
      "display_name": "Python 3"
    },
    "language_info": {
      "name": "python"
    },
    "accelerator": "GPU"
  },
  "cells": [
    {
      "cell_type": "markdown",
      "source": [
        "Distillation Enviornment"
      ],
      "metadata": {
        "id": "zGCRIiC8pBGw"
      }
    },
    {
      "cell_type": "code",
      "execution_count": null,
      "metadata": {
        "id": "y1F_SSFIo4uI"
      },
      "outputs": [],
      "source": [
        "!pip install tensorflow\n",
        "!pip install gym\n",
        "!pip install keras\n",
        "!pip install keras-rl2\n",
        "!pip install gekko"
      ]
    },
    {
      "cell_type": "code",
      "source": [
        "from gym import Env\n",
        "from gym.spaces import Discrete, Box, MultiDiscrete\n",
        "import numpy as np\n",
        "import tensorflow as tf\n",
        "import random\n",
        "from gekko import GEKKO\n",
        "import matplotlib.pyplot as plt"
      ],
      "metadata": {
        "id": "Y1H-gieUpRVy"
      },
      "execution_count": null,
      "outputs": []
    },
    {
      "cell_type": "code",
      "source": [
        "#setup equations for the distillation tower\n",
        "# Initialize Model\n",
        "m = GEKKO()\n",
        "\n",
        "# Define constants\n",
        "#Reflux Ratio\n",
        "rr=m.Param(value=4)\n",
        "# Feed flowrate (mol/min)\n",
        "Feed=m.Const(value=3)\n",
        "# Mole fraction of feed\n",
        "x_Feed=m.Const(value=.5)\n",
        "#Relative volatility = (yA/xA)/(yB/xB) = KA/KB = alpha(A,B)\n",
        "vol=m.Const(value=1.6)\n",
        "# Total molar holdup on each tray\n",
        "atray=m.Const(value=.25)\n",
        "# Total molar holdup in condenser\n",
        "acond=m.Const(value=.5)\n",
        "# Total molar holdup in reboiler\n",
        "areb=m.Const(value=.1)\n",
        "# mole fraction of component A\n",
        "x=[]\n",
        "for i in range(32):\n",
        "    x.append(m.Var(.3))\n",
        "# Define intermediates\n",
        "# Distillate flowrate (mol/min)\n",
        "D=m.Intermediate(.5*Feed)\n",
        "# Liquid flowrate in rectification section (mol/min)\n",
        "L=m.Intermediate(rr*D)\n",
        "# Vapor Flowrate in column (mol/min)\n",
        "V=m.Intermediate(L+D)\n",
        "# Liquid flowrate in stripping section (mol/min)\n",
        "FL=m.Intermediate(Feed+L)\n",
        "# vapor mole fraction of Component A\n",
        "# From the equilibrium assumption and mole balances\n",
        "\n",
        "y=[]\n",
        "for i in range(32):\n",
        "    y.append(m.Intermediate(x[i]*vol/(1+(vol-1)*x[i])))\n",
        "# condenser\n",
        "m.Equation(acond*x[0].dt()==V*(y[1]-x[0]))\n",
        "# 15 column stages\n",
        "n=1\n",
        "for i in range(15):\n",
        "    m.Equation(atray * x[n].dt() ==L*(x[n-1]-x[n]) - V*(y[n]-y[n+1]))\n",
        "    n=n+1\n",
        "# feed tray\n",
        "m.Equation(atray * x[16].dt() == Feed*x_Feed + L*x[15] - FL*x[16] - V*(y[16]-y[17]))\n",
        "# 14 column stages\n",
        "n=17\n",
        "for i in range(14):\n",
        "    m.Equation(atray * x[n].dt() == FL*(x[n-1]-x[n]) - V*(y[n]-y[n+1]))\n",
        "    n=n+1\n",
        "# reboiler\n",
        "m.Equation(areb  * x[31].dt() == FL*x[30] - (Feed-D)*x[31] - V*y[31])\n",
        "# steady state solution"
      ],
      "metadata": {
        "id": "EjIRDcaa9NEl",
        "colab": {
          "base_uri": "https://localhost:8080/"
        },
        "outputId": "031b0613-fd94-4915-80aa-6feebcefc758"
      },
      "execution_count": null,
      "outputs": [
        {
          "output_type": "execute_result",
          "data": {
            "text/plain": [
              "<gekko.gekko.EquationObj at 0x201fd39ee90>"
            ]
          },
          "metadata": {},
          "execution_count": 12
        }
      ]
    },
    {
      "cell_type": "code",
      "source": [
        "# switch to dynamic simulation\n",
        "m.options.imode=4\n",
        "#set simulation and sampling time\n",
        "nt = 101\n",
        "m.time=np.linspace(0,100,101)"
      ],
      "metadata": {
        "id": "QHG9Ggq-jRKA"
      },
      "execution_count": null,
      "outputs": []
    },
    {
      "cell_type": "markdown",
      "source": [
        "Distillation Tower Enviornment setup"
      ],
      "metadata": {
        "id": "pC7gZmP6cFV5"
      }
    },
    {
      "cell_type": "code",
      "source": [
        "#D=np.arange(0, 10, .01)\n",
        "D= MultiDiscrete(np.array([20, 10, 10, 10, 100]))\n",
        "simlen = 1\n",
        "\n",
        "class DistilEnv(Env):\n",
        "    def __init__(self):\n",
        "        # Actions\n",
        "        self.action_space = D\n",
        "        # observation space\n",
        "        #self.observation_space = Box(low=np.array([0.0]), high=np.array([1.0]))\n",
        "        #self.observation_shape = 101\n",
        "        self.observation_space = Box(low = np.zeros(101), high = np.ones(101), dtype = np.float16)\n",
        "        # Set start temp\n",
        "        self.state = np.zeros(101)\n",
        "        # Set simulation length\n",
        "        self.simulation_length = simlen\n",
        "        self.step = 0\n",
        "\n",
        "    def step(self, action):\n",
        "\n",
        "        # Reduce  length by 1 second\n",
        "        self.step +=1\n",
        "        self.simulation_length -= 1\n",
        "        # Apply action:\n",
        "        t_r= action[0]\n",
        "        t_f= action[1]\n",
        "        ss = t_r+t_f\n",
        "\n",
        "        val_tr = action[2]\n",
        "        val_tf = action[3]\n",
        "        val_ss = action[4]/10\n",
        "\n",
        "        #Simulate\n",
        "        rr_step = np.ones(nt)\n",
        "        rr_step[:t_r] = val_tr\n",
        "        rr_step[t_r:t_r+t_f] = val_tf\n",
        "        rr_step[ss:] = val_ss\n",
        "        rr.value=rr_step\n",
        "        m.solve(disp=False, debug=False)\n",
        "        # Calculate reward\n",
        "        self.state = y[1]\n",
        "        reward=0\n",
        "        if self.simulation_length == simlen:\n",
        "          score=0\n",
        "        for i in range(101):\n",
        "          if self.state[i] > 0.96 and self.state[i] <= 0.98:\n",
        "              rew = 1\n",
        "              reward += rew\n",
        "          if self.state[i] == 0.97:\n",
        "              rew = 10\n",
        "              reward += rew\n",
        "          else:\n",
        "              rew = 0\n",
        "              reward += rew\n",
        "\n",
        "        print('sim:{} step:{} reward:{}  tr {} tf {} ss {} {} {} {}'.format(self.simulation_length +1,self.step, reward, t_r, t_f, ss,val_tr, val_tf, val_ss ))\n",
        "        # Check if simulation is done\n",
        "        if self.simulation_length <= 0:\n",
        "            done = True\n",
        "        else:\n",
        "            done = False\n",
        "\n",
        "        # Apply feed rate noise\n",
        "        #self.state += random.randint(-0.3,0.3)\n",
        "        # Set placeholder for info\n",
        "        info = {}\n",
        "\n",
        "        # Return step information\n",
        "        return self.state, reward, done, info\n",
        "\n",
        "    def render(self):\n",
        "        # Implement viz\n",
        "        pass\n",
        "\n",
        "    def reset(self):\n",
        "        # Reset state\n",
        "        self.state = y[1]\n",
        "        score= 0\n",
        "        self.step = 0\n",
        "        # Reset shower time\n",
        "        self.simulation_length = simlen\n",
        "        return self.state\n",
        "\n",
        "\n",
        "env = DistilEnv()"
      ],
      "metadata": {
        "id": "tAORI1sNqDwA",
        "colab": {
          "base_uri": "https://localhost:8080/"
        },
        "outputId": "232ac5cc-a3b0-4c82-e1bc-7511cbc9c7a0"
      },
      "execution_count": null,
      "outputs": [
        {
          "output_type": "stream",
          "name": "stderr",
          "text": [
            "C:\\Program Files\\Python311\\Lib\\site-packages\\gym\\spaces\\box.py:127: UserWarning: \u001b[33mWARN: Box bound precision lowered by casting to float16\u001b[0m\n",
            "  logger.warn(f\"Box bound precision lowered by casting to {self.dtype}\")\n"
          ]
        }
      ]
    },
    {
      "cell_type": "markdown",
      "source": [
        "Test Enviornment"
      ],
      "metadata": {
        "id": "7CnqyZ_eEJlx"
      }
    },
    {
      "cell_type": "code",
      "source": [
        "episodes = 1\n",
        "for episode in range(1, episodes+1):\n",
        "    state = env.reset()\n",
        "    done = False\n",
        "    score = 0\n",
        "\n",
        "    while not done:\n",
        "        action = env.action_space.sample().tolist()\n",
        "        n_state, reward, done, info = env.step(action)\n",
        "        score+=reward\n",
        "    print('\\n \\n \\n Episode:{} Score:{} \\n \\n \\n'.format(episode, score))\n"
      ],
      "metadata": {
        "id": "9wCiiI7Hs6gx",
        "colab": {
          "base_uri": "https://localhost:8080/"
        },
        "outputId": "69514cbd-f12f-476d-fa94-340ede29820f"
      },
      "execution_count": null,
      "outputs": [
        {
          "output_type": "stream",
          "name": "stdout",
          "text": [
            "sim:1 reward:0  tr 1 tf 2 ss 3 1 1 2.4\n",
            "\n",
            " \n",
            " \n",
            " Episode:1 Score:0 \n",
            " \n",
            " \n",
            "\n"
          ]
        }
      ]
    },
    {
      "cell_type": "code",
      "source": [
        "!pip install \"stable-baselines3[extra]>=2.0.0a4\""
      ],
      "metadata": {
        "id": "YRty2Bdf02BT"
      },
      "execution_count": null,
      "outputs": []
    },
    {
      "cell_type": "markdown",
      "source": [
        "A2C Reinforcement Learning"
      ],
      "metadata": {
        "id": "_Ta-BHxY7TgU"
      }
    },
    {
      "cell_type": "code",
      "source": [
        "from stable_baselines3 import A2C"
      ],
      "metadata": {
        "id": "M9MBuZ0C0zxr"
      },
      "execution_count": null,
      "outputs": []
    },
    {
      "cell_type": "markdown",
      "source": [
        "Load model"
      ],
      "metadata": {
        "id": "rceOUa9DQsOq"
      }
    },
    {
      "cell_type": "code",
      "source": [
        "model_path = \"Users\\pc\\Desktop\\model\\model1.zip\"\n",
        "model=A2C.load(model_path, env=env)"
      ],
      "metadata": {
        "colab": {
          "base_uri": "https://localhost:8080/"
        },
        "id": "I7DyrLHVM_ax",
        "outputId": "e60d2c5f-60c9-447b-933c-84f3aa1b13d3"
      },
      "execution_count": null,
      "outputs": [
        {
          "output_type": "stream",
          "name": "stdout",
          "text": [
            "Wrapping the env with a `Monitor` wrapper\n",
            "Wrapping the env in a DummyVecEnv.\n"
          ]
        },
        {
          "output_type": "stream",
          "name": "stderr",
          "text": [
            "C:\\Users\\pc\\AppData\\Roaming\\Python\\Python311\\site-packages\\stable_baselines3\\common\\vec_env\\patch_gym.py:49: UserWarning: You provided an OpenAI Gym environment. We strongly recommend transitioning to Gymnasium environments. Stable-Baselines3 is automatically wrapping your environments in a compatibility layer, which could potentially cause issues.\n",
            "  warnings.warn(\n"
          ]
        }
      ]
    },
    {
      "cell_type": "code",
      "source": [
        "import os\n",
        "logdir = \"Users\\pc\\Desktop\\model\\logs\"\n",
        "\n",
        "if not os.path.exists(logdir):\n",
        "    os.makedirs(logdir)"
      ],
      "metadata": {
        "id": "adl8B-fdOdcB"
      },
      "execution_count": null,
      "outputs": []
    },
    {
      "cell_type": "code",
      "source": [
        "TIMESTEPS=10000\n",
        "#model = A2C('MlpPolicy', env, verbose=1, tensorboard_log=logdir)\n",
        "#continue learning\n",
        "model=A2C.load(model_path, env=env,verbose=1, tensorboard_log=logdir )\n",
        "model.learn(total_timesteps = TIMESTEPS, reset_num_timesteps=False, tb_log_name=\"A2C\")"
      ],
      "metadata": {
        "id": "N77QhCRr2X0i"
      },
      "execution_count": null,
      "outputs": []
    },
    {
      "cell_type": "markdown",
      "source": [
        "can view outcome using terminal and tensorboard --logdir=logs"
      ],
      "metadata": {
        "id": "8uurX5KYPE3K"
      }
    },
    {
      "cell_type": "code",
      "source": [
        "from stable_baselines3.common.evaluation import evaluate_policy\n",
        "mean_reward, std_reward = evaluate_policy(model, model.get_env(), n_eval_episodes=10)"
      ],
      "metadata": {
        "id": "F9nv8FhKHrLo",
        "colab": {
          "base_uri": "https://localhost:8080/"
        },
        "outputId": "a4d4c7d1-8ab1-4460-ee04-6767fdef5e7f"
      },
      "execution_count": null,
      "outputs": [
        {
          "output_type": "stream",
          "name": "stdout",
          "text": [
            "sim:1 reward:97  tr 1 tf 1 ss 2 6 7 3.6\n",
            "sim:1 reward:97  tr 1 tf 1 ss 2 6 7 3.6\n",
            "sim:1 reward:97  tr 1 tf 1 ss 2 6 7 3.6\n",
            "sim:1 reward:97  tr 1 tf 1 ss 2 6 7 3.6\n",
            "sim:1 reward:97  tr 1 tf 1 ss 2 6 7 3.6\n",
            "sim:1 reward:97  tr 1 tf 1 ss 2 6 7 3.6\n",
            "sim:1 reward:97  tr 1 tf 1 ss 2 6 7 3.6\n",
            "sim:1 reward:97  tr 1 tf 1 ss 2 6 7 3.6\n",
            "sim:1 reward:97  tr 1 tf 1 ss 2 6 7 3.6\n",
            "sim:1 reward:97  tr 1 tf 1 ss 2 6 7 3.6\n"
          ]
        }
      ]
    },
    {
      "cell_type": "code",
      "source": [
        "score = 0\n",
        "episodes = 1\n",
        "for ep in range(episodes):\n",
        "\tobs = env.reset()\n",
        "\tdone = False\n",
        "\twhile not done:\n",
        "\t\t# pass observation to model to get predicted action\n",
        "\t\taction, _states = model.predict(obs)\n",
        "\n",
        "\t\t# pass action to env and get info back\n",
        "\t\tstate, reward, done, info = env.step(action)\n",
        "\t\tscore+=reward\n",
        "\t\tprint('\\n \\n \\n Episode:{} Score:{} \\n \\n \\n'.format(episode, score))\n"
      ],
      "metadata": {
        "id": "M7gJm8ch282L",
        "colab": {
          "base_uri": "https://localhost:8080/"
        },
        "outputId": "2889e2dc-b5f9-4457-9a1a-004acfa31a0f"
      },
      "execution_count": null,
      "outputs": [
        {
          "output_type": "stream",
          "name": "stdout",
          "text": [
            "sim:1 reward:82  tr 1 tf 5 ss 6 4 5 3.6\n",
            "\n",
            " \n",
            " \n",
            " Episode:1 Score:82 \n",
            " \n",
            " \n",
            "\n"
          ]
        }
      ]
    },
    {
      "cell_type": "code",
      "source": [
        "models_dir = \"Users\\pc\\Desktop\\model\"\n",
        "#change for new model\n",
        "num=120\n",
        "model.save(f\"{models_dir}/{num*i}\")"
      ],
      "metadata": {
        "id": "oiUwJ9Q_aUuX"
      },
      "execution_count": null,
      "outputs": []
    },
    {
      "cell_type": "code",
      "source": [
        "up_limit= np.ones(20)*0.98\n",
        "low_limit= np.ones(20)*0.96\n",
        "plt.subplot(2,1,1)\n",
        "plt.plot(m.time[0:20], up_limit,'r:',label='U')\n",
        "plt.plot(m.time[0:20],y[1][0:20],'b-',label='Tray 1')\n",
        "plt.plot(m.time[0:20], low_limit,'r:',label='L')\n",
        "\n",
        "plt.ylabel('Composition')\n",
        "plt.legend(loc='best')\n",
        "\n",
        "plt.subplot(2,1,2)\n",
        "plt.plot(m.time,rr.value,'r.-',label='Reflux Ratio')\n",
        "plt.ylabel('Reflux Ratio')\n",
        "plt.legend(loc='best')\n",
        "\n",
        "plt.xlabel('Time (min)')\n",
        "plt.show()"
      ],
      "metadata": {
        "colab": {
          "base_uri": "https://localhost:8080/",
          "height": 449
        },
        "id": "vyQW2rkcX33y",
        "outputId": "b176e6a7-bbf2-4ef7-8914-6067f428011c"
      },
      "execution_count": null,
      "outputs": [
        {
          "output_type": "display_data",
          "data": {
            "text/plain": [
              "<Figure size 640x480 with 2 Axes>"
            ],
            "image/png": "[encoded data removed]"
          },
          "metadata": {}
        }
      ]
    },
    {
      "cell_type": "markdown",
      "source": [
        ".\n",
        ".\n",
        ".\n",
        ".\n",
        ".\n",
        ".\n",
        ".\n",
        ".\n",
        ".\n",
        ".\n",
        ".\n",
        ".\n",
        ".\n",
        ".\n",
        ".\n",
        ".\n",
        "\n",
        "\n",
        "\n",
        "\n",
        "\n",
        "\n",
        "\n",
        "\n",
        "\n",
        "\n",
        "\n",
        "\n",
        "\n",
        "\n",
        "\n",
        "\n",
        "\n",
        "\n",
        "\n"
      ],
      "metadata": {
        "id": "YsrRMMTl8I8z"
      }
    },
    {
      "cell_type": "markdown",
      "source": [
        ". . . . . . . . . . . . . . . ."
      ],
      "metadata": {
        "id": "gAsTcRvZ8Qcb"
      }
    },
    {
      "cell_type": "markdown",
      "source": [
        ". . . . . . . . . . . . . . . ."
      ],
      "metadata": {
        "id": "cYCMTkaE8RHD"
      }
    },
    {
      "cell_type": "markdown",
      "source": [
        ". . . . . . . . . . . . . . . ."
      ],
      "metadata": {
        "id": "eP1rTGbaYENu"
      }
    },
    {
      "cell_type": "markdown",
      "source": [
        ". . . . . . . . . . . . . . . ."
      ],
      "metadata": {
        "id": "lBnQOrH-YGF-"
      }
    },
    {
      "cell_type": "markdown",
      "source": [
        "DQN deep reinfrcement learning algorithm"
      ],
      "metadata": {
        "id": "5aj4ZSVV0qDD"
      }
    },
    {
      "cell_type": "code",
      "source": [
        "import numpy as np\n",
        "from tensorflow.keras.models import Sequential\n",
        "from tensorflow.keras.layers import Dense, Flatten\n",
        "from tensorflow.keras.optimizers import Adam"
      ],
      "metadata": {
        "id": "2h1BJHkWs-op"
      },
      "execution_count": null,
      "outputs": []
    },
    {
      "cell_type": "code",
      "source": [
        "#env.observation_space=np.array(env.observation_space)\n",
        "states = env.observation_space.shape\n",
        "actions = env.action_space.nvec.shape\n",
        "#actions = Discrete(6).n"
      ],
      "metadata": {
        "id": "JlZshUwEtBsJ"
      },
      "execution_count": null,
      "outputs": []
    },
    {
      "cell_type": "code",
      "source": [
        "env.action_space.nvec"
      ],
      "metadata": {
        "colab": {
          "base_uri": "https://localhost:8080/"
        },
        "id": "Ef-QpMTygxi4",
        "outputId": "9114432b-719e-40d7-ceb4-889e161cd4da"
      },
      "execution_count": null,
      "outputs": [
        {
          "output_type": "execute_result",
          "data": {
            "text/plain": [
              "array([ 20,  10,  10,  10, 100], dtype=int64)"
            ]
          },
          "metadata": {},
          "execution_count": 180
        }
      ]
    },
    {
      "cell_type": "code",
      "source": [
        "def build_model(states, actions):\n",
        "    model = Sequential()\n",
        "    model.add(Dense(24, activation='relu', input_shape=states))\n",
        "    model.add(Dense(24, activation='relu'))\n",
        "    model.add(Dense(actions, activation='linear'))\n",
        "    return model"
      ],
      "metadata": {
        "id": "zcY5iiV2tNIW"
      },
      "execution_count": null,
      "outputs": []
    },
    {
      "cell_type": "code",
      "source": [
        "del model"
      ],
      "metadata": {
        "id": "s9mgAfN5de-X"
      },
      "execution_count": null,
      "outputs": []
    },
    {
      "cell_type": "code",
      "source": [
        "model = build_model(states, actions)\n",
        "model.summary()"
      ],
      "metadata": {
        "id": "Zxr7qX-atPpd"
      },
      "execution_count": null,
      "outputs": []
    },
    {
      "cell_type": "code",
      "source": [
        "from rl.agents import DQNAgent\n",
        "from rl.policy import BoltzmannQPolicy\n",
        "from rl.memory import SequentialMemory"
      ],
      "metadata": {
        "id": "uqmUsQGYtSQW"
      },
      "execution_count": null,
      "outputs": []
    },
    {
      "cell_type": "code",
      "source": [
        "def build_agent(model, actions):\n",
        "    policy = BoltzmannQPolicy()\n",
        "    memory = SequentialMemory(limit=5000, window_length=1)\n",
        "    dqn = DQNAgent(model=model, memory=memory, policy=policy,\n",
        "                  nb_actions=actions, nb_steps_warmup=10, target_model_update=1e-2)\n",
        "    return dqn"
      ],
      "metadata": {
        "id": "RXm684-iuB2G"
      },
      "execution_count": null,
      "outputs": []
    },
    {
      "cell_type": "code",
      "source": [
        "dqn = build_agent(model, actions)\n",
        "dqn.compile(tf.keras.optimizers.legacy.Adam(learning_rate=1e-3), metrics=['mae'])\n",
        "dqn.fit(env, nb_steps=5, visualize=False, verbose=1)"
      ],
      "metadata": {
        "id": "YSxQSkwlt8l7"
      },
      "execution_count": null,
      "outputs": []
    },
    {
      "cell_type": "code",
      "source": [
        "scores = dqn.test(env, nb_episodes=1, visualize=False)\n",
        "print(np.mean(scores.history['episode_reward']))"
      ],
      "metadata": {
        "id": "3RX4oP3buu-x"
      },
      "execution_count": null,
      "outputs": []
    },
    {
      "cell_type": "code",
      "source": [
        "plt.subplot(2,1,1)\n",
        "plt.plot(m.time,y[1].value,'b:',label='Tray 1')\n",
        "plt.ylabel('Composition')\n",
        "plt.legend(loc='best')\n",
        "\n",
        "plt.subplot(2,1,2)\n",
        "plt.plot(m.time,rr.value,'r.-',label='Reflux Ratio')\n",
        "plt.ylabel('Reflux Ratio')\n",
        "plt.legend(loc='best')\n",
        "\n",
        "plt.xlabel('Time (min)')\n",
        "plt.show()"
      ],
      "metadata": {
        "id": "t_OX3UMDbi9h"
      },
      "execution_count": null,
      "outputs": []
    },
    {
      "cell_type": "markdown",
      "source": [
        "save model"
      ],
      "metadata": {
        "id": "2cysxqvTI8P-"
      }
    },
    {
      "cell_type": "code",
      "source": [
        "dqn.save_weights('dqn_Dist_weights.h5f', overwrite=True)"
      ],
      "metadata": {
        "id": "hK0APLS-OTUc"
      },
      "execution_count": null,
      "outputs": []
    },
    {
      "cell_type": "code",
      "source": [
        "del model\n",
        "del dqn\n",
        "del env"
      ],
      "metadata": {
        "id": "8KXNmrWkLvnl"
      },
      "execution_count": null,
      "outputs": []
    },
    {
      "cell_type": "code",
      "source": [
        "env = DistilEnv()\n",
        "actions = env.action_space.n\n",
        "states = env.observation_space.shape\n",
        "model = build_model(states, actions)\n",
        "dqn = build_agent(model, actions)\n",
        "dqn.compile(Adam(lr=1e-3), metrics=['mae'])"
      ],
      "metadata": {
        "id": "D4iHWO3qObjL"
      },
      "execution_count": null,
      "outputs": []
    },
    {
      "cell_type": "code",
      "source": [
        "dqn.load_weights('dqn_weights.h5f')\n",
        "_ = dqn.test(env, nb_episodes=5, visualize=False)"
      ],
      "metadata": {
        "id": "i5PwhIPSOqaE"
      },
      "execution_count": null,
      "outputs": []
    },
    {
      "cell_type": "markdown",
      "source": [
        "useful script"
      ],
      "metadata": {
        "id": "2CANB1xoYnQ_"
      }
    },
    {
      "cell_type": "code",
      "source": [
        "# rr_step = np.ones(nt) * 0.7\n",
        "# rr_step[:t_r] = val_tr\n",
        "# rr_step[t_r:t_r+t_f] = val_tf\n",
        "# rr_step[ss:] = val_ss\n",
        "# rr.value=rr_step\n",
        "# rr.value\n",
        "# #m.solve()"
      ],
      "metadata": {
        "id": "c9NRS4RUR2yf"
      },
      "execution_count": null,
      "outputs": []
    },
    {
      "cell_type": "code",
      "source": [
        "# action=env.action_space.sample().tolist()\n",
        "# t_r= action[0][0]\n",
        "# t_f= action[0][1]\n",
        "# ss = t_r+t_f\n",
        "# val_tr = action[1][0]\n",
        "# val_tf = action[1][1]\n",
        "# val_ss = action[1][2]/10\n",
        "\n",
        "# print('tr:{} tf:{} ss:{}   {} {} {}'.format(t_r, t_f,ss,val_tr,val_tf,val_ss))"
      ],
      "metadata": {
        "id": "8bS-RbOTro54"
      },
      "execution_count": null,
      "outputs": []
    }
  ]
}